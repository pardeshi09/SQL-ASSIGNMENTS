{
 "cells": [
  {
   "cell_type": "markdown",
   "id": "761cc5a1",
   "metadata": {},
   "source": [
    "### Q-1. Write an SQL query to fetch “FIRST_NAME” from Worker table using the alias name as \"WORKER_NAME\"."
   ]
  },
  {
   "cell_type": "raw",
   "id": "dfc7ae95",
   "metadata": {},
   "source": [
    "Ans: SELECT FIRST_NAME AS WORKER_NAME FROM Worker;"
   ]
  },
  {
   "cell_type": "markdown",
   "id": "d3a985e8",
   "metadata": {},
   "source": [
    "### Q-2. Write an SQL query to fetch unique values of DEPARTMENT from Worker table."
   ]
  },
  {
   "cell_type": "raw",
   "id": "c4538a12",
   "metadata": {},
   "source": [
    "Ans: SELECT DISTINCT DEPARTMENT FROM Worker;"
   ]
  },
  {
   "cell_type": "markdown",
   "id": "f449d34b",
   "metadata": {},
   "source": [
    "### Q-3. Write an SQL query to show the last 5 record from a table."
   ]
  },
  {
   "cell_type": "raw",
   "id": "45a297d3",
   "metadata": {},
   "source": [
    "Ans: SELECT * FROM Worker ORDER by id DESC LIMIT 5;"
   ]
  }
 ],
 "metadata": {
  "kernelspec": {
   "display_name": "Python 3 (ipykernel)",
   "language": "python",
   "name": "python3"
  },
  "language_info": {
   "codemirror_mode": {
    "name": "ipython",
    "version": 3
   },
   "file_extension": ".py",
   "mimetype": "text/x-python",
   "name": "python",
   "nbconvert_exporter": "python",
   "pygments_lexer": "ipython3",
   "version": "3.9.7"
  }
 },
 "nbformat": 4,
 "nbformat_minor": 5
}
