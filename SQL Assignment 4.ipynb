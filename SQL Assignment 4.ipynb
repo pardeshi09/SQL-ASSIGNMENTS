{
 "cells": [
  {
   "cell_type": "markdown",
   "id": "9532828a",
   "metadata": {},
   "source": [
    "### Q-1. Write an SQL query to print the FIRST_NAME from Worker table after replacing ‘a’ with ‘A’."
   ]
  },
  {
   "cell_type": "code",
   "execution_count": null,
   "id": "3a457817",
   "metadata": {},
   "outputs": [],
   "source": [
    "SELECT REPLACE(FIRST_NAME,'a','A') FROM Worker;"
   ]
  },
  {
   "cell_type": "markdown",
   "id": "033766ae",
   "metadata": {},
   "source": [
    "### Q-2. Write an SQL query to print all Worker details from the Worker table order by FIRST_NAME Ascending and DEPARTMENT Descending."
   ]
  },
  {
   "cell_type": "code",
   "execution_count": null,
   "id": "ebe74597",
   "metadata": {},
   "outputs": [],
   "source": [
    "SELCET * FROM Worker ORDER BY FIRST_NAME ASC, DEPARTMENT DESC ;"
   ]
  },
  {
   "cell_type": "markdown",
   "id": "be5870f1",
   "metadata": {},
   "source": [
    "### Q-3.Write an SQL query to fetch the names of workers who earn the highest salary."
   ]
  },
  {
   "cell_type": "code",
   "execution_count": null,
   "id": "c5a9e995",
   "metadata": {},
   "outputs": [],
   "source": [
    "SELECT FIRST_NAME, LAST_NAME FROM Worker WHERE SALARY = (SELECT MAX(SALARY) FROM Worker) ;"
   ]
  }
 ],
 "metadata": {
  "kernelspec": {
   "display_name": "Python 3 (ipykernel)",
   "language": "python",
   "name": "python3"
  },
  "language_info": {
   "codemirror_mode": {
    "name": "ipython",
    "version": 3
   },
   "file_extension": ".py",
   "mimetype": "text/x-python",
   "name": "python",
   "nbconvert_exporter": "python",
   "pygments_lexer": "ipython3",
   "version": "3.9.7"
  }
 },
 "nbformat": 4,
 "nbformat_minor": 5
}
