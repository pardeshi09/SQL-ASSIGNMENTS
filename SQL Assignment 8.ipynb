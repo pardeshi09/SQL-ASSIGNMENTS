{
 "cells": [
  {
   "cell_type": "markdown",
   "id": "bf56eef4",
   "metadata": {},
   "source": [
    "### Q-15. Write an SQL query to fetch intersecting records of two tables."
   ]
  },
  {
   "cell_type": "code",
   "execution_count": null,
   "id": "939c7ce5",
   "metadata": {},
   "outputs": [],
   "source": [
    "SELECT <COLUMN_NAME> FROM TABLE_1 INTERSECT SELECT <COLUMN_NAME> FROM TABLE_2;"
   ]
  },
  {
   "cell_type": "markdown",
   "id": "e3b4e7e8",
   "metadata": {},
   "source": [
    "### Q-16. Write an SQL query to show records from one table that another table does not have."
   ]
  },
  {
   "cell_type": "code",
   "execution_count": null,
   "id": "2994c51e",
   "metadata": {},
   "outputs": [],
   "source": [
    "SELECT * FROM TABLE_1 EXCEPT SELECT * FROM TABLE_2;"
   ]
  }
 ],
 "metadata": {
  "kernelspec": {
   "display_name": "Python 3 (ipykernel)",
   "language": "python",
   "name": "python3"
  },
  "language_info": {
   "codemirror_mode": {
    "name": "ipython",
    "version": 3
   },
   "file_extension": ".py",
   "mimetype": "text/x-python",
   "name": "python",
   "nbconvert_exporter": "python",
   "pygments_lexer": "ipython3",
   "version": "3.9.7"
  }
 },
 "nbformat": 4,
 "nbformat_minor": 5
}
