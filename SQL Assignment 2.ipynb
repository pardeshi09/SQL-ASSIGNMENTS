{
 "cells": [
  {
   "cell_type": "markdown",
   "id": "6e69d1de",
   "metadata": {},
   "source": [
    "### Q-1. Write an SQL query to print the first three characters of FIRST_NAME from Worker table.\n"
   ]
  },
  {
   "cell_type": "markdown",
   "id": "b3fc4494",
   "metadata": {},
   "source": [
    "SELECT SUBSTRING(FIRST_NAME,1,3) FROM Worker;"
   ]
  },
  {
   "cell_type": "markdown",
   "id": "64b6f845",
   "metadata": {},
   "source": [
    "### Q-2. Write an SQL query to find the position of the alphabet (‘a’) in the first name column ‘Amitabh’ from Worker table.\n"
   ]
  },
  {
   "cell_type": "code",
   "execution_count": null,
   "id": "1858ebb2",
   "metadata": {},
   "outputs": [],
   "source": [
    "SELECT LOCATE('a', FIRST_NAME) FROM Worker WHERE FIRST_NAME = 'Amitabh';"
   ]
  },
  {
   "cell_type": "markdown",
   "id": "171c232f",
   "metadata": {},
   "source": [
    "### Q-3. Write an SQL query to print the name of employees having the highest salary in each department."
   ]
  },
  {
   "cell_type": "code",
   "execution_count": null,
   "id": "6906d72e",
   "metadata": {},
   "outputs": [],
   "source": [
    "SELECT FIRST_NAME , LAST_NAME , SALARY, DEPARTMENT FROM Worker AS W WHERE SALARY = (SELECT MAX(SALARY) FROM Worker WHERE DEPARTMENT = W.DEPARTMET )"
   ]
  }
 ],
 "metadata": {
  "kernelspec": {
   "display_name": "Python 3 (ipykernel)",
   "language": "python",
   "name": "python3"
  },
  "language_info": {
   "codemirror_mode": {
    "name": "ipython",
    "version": 3
   },
   "file_extension": ".py",
   "mimetype": "text/x-python",
   "name": "python",
   "nbconvert_exporter": "python",
   "pygments_lexer": "ipython3",
   "version": "3.9.7"
  }
 },
 "nbformat": 4,
 "nbformat_minor": 5
}
