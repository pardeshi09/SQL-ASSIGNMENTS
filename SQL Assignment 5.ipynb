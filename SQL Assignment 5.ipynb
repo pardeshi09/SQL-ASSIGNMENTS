{
 "cells": [
  {
   "cell_type": "markdown",
   "id": "1fabeb71",
   "metadata": {},
   "source": [
    "### Q-1. Write an SQL query to print details of workers excluding first names, “Vipul” and “Satish” from Worker table."
   ]
  },
  {
   "cell_type": "code",
   "execution_count": null,
   "id": "bcb98750",
   "metadata": {},
   "outputs": [],
   "source": [
    "SELECT * FROM Worker WHERE FIRST_NAME NOT IN ('Vipul','Satish');"
   ]
  },
  {
   "cell_type": "markdown",
   "id": "faa56f04",
   "metadata": {},
   "source": [
    "### Q-2.Write an SQL query to print details of the Workers whose FIRST_NAME ends with ‘h’ and contains six alphabets.\n"
   ]
  },
  {
   "cell_type": "code",
   "execution_count": null,
   "id": "5e402d3e",
   "metadata": {},
   "outputs": [],
   "source": [
    "SELECT * FROM Worker WHERE FIRST_NAME LIKE '_____h';"
   ]
  },
  {
   "cell_type": "markdown",
   "id": "e8c4e46c",
   "metadata": {},
   "source": [
    "### Q-3. Write a query to validate Email of Employee."
   ]
  },
  {
   "cell_type": "code",
   "execution_count": null,
   "id": "1dca3349",
   "metadata": {},
   "outputs": [],
   "source": [
    "SELECT * FROM Worker WHERE EMAIL LIKE '_%@_%._%'"
   ]
  }
 ],
 "metadata": {
  "kernelspec": {
   "display_name": "Python 3 (ipykernel)",
   "language": "python",
   "name": "python3"
  },
  "language_info": {
   "codemirror_mode": {
    "name": "ipython",
    "version": 3
   },
   "file_extension": ".py",
   "mimetype": "text/x-python",
   "name": "python",
   "nbconvert_exporter": "python",
   "pygments_lexer": "ipython3",
   "version": "3.9.7"
  }
 },
 "nbformat": 4,
 "nbformat_minor": 5
}
