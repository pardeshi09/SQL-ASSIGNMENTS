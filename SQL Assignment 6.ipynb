{
 "cells": [
  {
   "cell_type": "markdown",
   "id": "411ae26c",
   "metadata": {},
   "source": [
    "### Q-1. Write an SQL query to print details of the Workers who have joined in Feb’2014.\n"
   ]
  },
  {
   "cell_type": "markdown",
   "id": "cc3d6dc3",
   "metadata": {},
   "source": [
    "SELECT * FROM Worker WHERE YEAR(JOINING_DATE) = 2014 AND MONTH(JOINING_DATE) = 02 ;"
   ]
  },
  {
   "cell_type": "markdown",
   "id": "944e8e2f",
   "metadata": {},
   "source": [
    "SELECT * FROM Worker WHERE JOINING_DATE LIKE \"%2014-02%\""
   ]
  },
  {
   "cell_type": "markdown",
   "id": "f9998517",
   "metadata": {},
   "source": [
    "### Q-2. Write an SQL query to fetch duplicate records having matching data in some fields of a table.\n"
   ]
  },
  {
   "cell_type": "code",
   "execution_count": null,
   "id": "75ed5397",
   "metadata": {},
   "outputs": [],
   "source": [
    "SELECT column_name,  count(column_name) FROM Worker GROUP BY FIELDS HAVING COUNT(COLUMN)>1"
   ]
  }
 ],
 "metadata": {
  "kernelspec": {
   "display_name": "Python 3 (ipykernel)",
   "language": "python",
   "name": "python3"
  },
  "language_info": {
   "codemirror_mode": {
    "name": "ipython",
    "version": 3
   },
   "file_extension": ".py",
   "mimetype": "text/x-python",
   "name": "python",
   "nbconvert_exporter": "python",
   "pygments_lexer": "ipython3",
   "version": "3.9.7"
  }
 },
 "nbformat": 4,
 "nbformat_minor": 5
}
